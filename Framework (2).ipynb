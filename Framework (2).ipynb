{
  "cells": [
    {
      "cell_type": "markdown",
      "metadata": {
        "id": "GGZawn6zjw8B"
      },
      "source": [
        "# CV1014 Mini Project - Name, StudentID\n",
        "\n",
        "The purpose of this assignment is to allow you to apply the various computational thinking (CT) concepts learned during the course in the form of a mini project, which will further improve your problem solving and programming skills. The program developed for the project must hence demonstrate the applications of the four aspects of CT taught in the courses, including abstraction, decomposition, pattern recognition, and algorithm design. Through this project, you will also practice and acquire hands-on knowledge with Python programming, in particular on data processing, branching, looping, data structure, function, and algorithm design."
      ]
    },
    {
      "cell_type": "markdown",
      "metadata": {},
      "source": [
        "Some themes or topics are provided for students’ selection to avoid plagiarism. Each group consisting of three students freely select one of the following topics. The topic “F&B Recommendation (Inside NTU) system” is used as an example to show you the implementation procedures. The students cannot select this topic for their mini-projects!!!       \n",
        "The group should select one of the following topics. Please consult your lab supervisor first if you want to implement something different from the following topics, such that your lab supervisor can assess the suitability and complexity of your proposed system."
      ]
    },
    {
      "cell_type": "markdown",
      "metadata": {},
      "source": [
        "a) Online movie recommendation system        \n",
        "b) Online animation recommendation system   \n",
        "c) Online college admission management system at NTU or other universities  \n",
        "d) Student score management system at a university      \n",
        "e) Safety training system in a lab, a campus, or a factory      \n",
        "f) Mental health and wellness management system      \n",
        "g) ebook library management system at a NTU or other universities         \n",
        "h) Medical center recommendation system in Singapore or other countries       \n",
        "i) Computer brand/model recommendation system    \n",
        "j) Cell phone brand/model recommendation system     \n",
        "k) Flower shop recommendation system in Singapore or other countries              \n",
        "l) Clothes brand/shops recommendation system in Singapore or other countries        \n",
        "m) Hiking trails and spots recommendation system in Singapore or other countries        \n",
        "n) Fitness center recommendation system in Singapore or other countries     \n",
        "o) Hotel recommendation system in Singapore or other countries      \n",
        "p) Airflight recommendation system between multiple cities      \n",
        "q) Green transportation recommendation system in Singapore or other contries    \n",
        "r) Metro route recommendation system in Singapore or other countries         \n",
        "s) Outdoor adventure gear recommendation system in Singapore or other countries  \n",
        "t) Apartment rent/purchase recommendation system in Singapore/other countries. "
      ]
    },
    {
      "cell_type": "markdown",
      "metadata": {},
      "source": [
        "The following functions can be realized for the development of each system      \n",
        "a) User Interface design        \n",
        "b) Database development for the storing of the existing information     \n",
        "c) Adding new information and updating the database     \n",
        "d) Searching the information    \n",
        "e) Sorting by different measures, e.g., sorting by distance, price, or ranking.         \n",
        "f) Other advanced functions out of the lecture scope that learnt by yourself are also encouraged, and additional credits (a maximum of 5 scores) can be given.          "
      ]
    },
    {
      "cell_type": "code",
      "execution_count": null,
      "metadata": {
        "colab": {
          "base_uri": "https://localhost:8080/"
        },
        "collapsed": true,
        "id": "U_M_6S9Ujw8C",
        "outputId": "173ca758-099b-4fc0-9056-dd5717d38034"
      },
      "outputs": [],
      "source": [
        "from sys import exit\n",
        "import contextlib\n",
        "with contextlib.redirect_stdout(None):\n",
        "   import pygame\n",
        "import math\n",
        "import pandas as pd"
      ]
    },
    {
      "cell_type": "markdown",
      "metadata": {
        "id": "jF1dyLBTjw8D"
      },
      "source": [
        "### Data Preprocessing\n"
      ]
    },
    {
      "cell_type": "code",
      "execution_count": null,
      "metadata": {
        "collapsed": true,
        "id": "fQv1zgRUjw8D"
      },
      "outputs": [],
      "source": [
        "def getdatabase():\n",
        "\n",
        "'''\n",
        "Extract data from csv and parsing into lists for manipulation.  \n",
        "'''\n",
        "\n",
        "   return all_list\n",
        "\n",
        "\n",
        "def writedatabase():\n",
        "\n",
        "'''\n",
        "Write to csv with new values, if any\n",
        "'''\n",
        "\n",
        "   df.to_csv('resultslist.csv')"
      ]
    },
    {
      "cell_type": "markdown",
      "metadata": {
        "id": "U3Q_CChKjw8E"
      },
      "source": [
        "### get_user_location\t\n",
        "\n",
        "Get user location either though console input or mouse click."
      ]
    },
    {
      "cell_type": "code",
      "execution_count": null,
      "metadata": {
        "collapsed": true,
        "id": "Sj5NNWB9jw8E"
      },
      "outputs": [],
      "source": [
        "# Returns the x & y position of user\n",
        "def get_location():\n",
        "   global x, y\n",
        "   pygame.init()\n",
        "   screen = pygame.display.set_mode((600, 750), 0, 32)\n",
        "   # loads map\n",
        "   background = pygame.image.load('map.bmp').convert()\n",
        "   done = False\n",
        "   while True:\n",
        "      for event in pygame.event.get():\n",
        "           screen.blit(background, (0,0))\n",
        "           pygame.display.update()\n",
        "   \n",
        "   pass"
      ]
    },
    {
      "cell_type": "markdown",
      "metadata": {
        "id": "NwAmZNidjw8H"
      },
      "source": [
        "### distance_a_b (location_of_a, location_of_b)\n",
        "\n",
        "The function calculates the distance between two points."
      ]
    },
    {
      "cell_type": "code",
      "execution_count": null,
      "metadata": {},
      "outputs": [],
      "source": [
        "# Calculates the distance between stalls and user current location\n",
        "def get_distance(all_list, x, y):\n",
        "   for element in all_list:\n",
        "   \n",
        "   pass"
      ]
    },
    {
      "cell_type": "code",
      "execution_count": null,
      "metadata": {},
      "outputs": [],
      "source": [
        "def welcome_menu():\n",
        "   global all_list\n",
        "   all_list = getdatabase()\n",
        "   \n",
        "   while True:\n",
        "       print(\"...\")\n",
        "       \n",
        "   if ...:\n",
        "       get_location()\n",
        "       get_distance(all_list,x,y)\n",
        "       main_menu()\n",
        "   else:\n",
        "       print(\"THANK YOU FOR USING THIS PROGRAM ! :)\")\n",
        "       exit"
      ]
    },
    {
      "cell_type": "code",
      "execution_count": null,
      "metadata": {},
      "outputs": [],
      "source": [
        "if __name__ == \"__main__\":\n",
        "    main()"
      ]
    },
    {
      "cell_type": "markdown",
      "metadata": {},
      "source": [
        "### Other Functionalities"
      ]
    },
    {
      "cell_type": "markdown",
      "metadata": {},
      "source": [
        "To show the user the main menu and get the user's choice."
      ]
    },
    {
      "cell_type": "code",
      "execution_count": null,
      "metadata": {},
      "outputs": [],
      "source": [
        "def main_menu():\n",
        "   while True:\n",
        "       print(\"MAIN MENU\")\n",
        "       print(\"Please choose your preferred option:\")\n",
        "       print(\"1. Sort by Average Price\")\n",
        "       print(\"2. Sort by Rating\")\n",
        "       print(\"3. Sort by Distance\")\n",
        "       print(\"4. Search\")\n",
        "       print(\"5. Reinput location\")\n",
        "       print(\"6. Add stall info into the database\")\n",
        "       print(\"7. Remove stall info from the database\")\n",
        "       print(\"0. Quit\")\n",
        "       ...\n",
        "       main_choice=input(\"User input (in digit):\")\n",
        "       #check if the main_choice is a valid input\n",
        "       if (main_choice.isdigit() and 0<=int(main_choice)<=7):\n",
        "           break\n",
        "   main_choice_int=int(main_choice)\n",
        "   if main_choice_int==1:\n",
        "       sorted_list = ask_price_range(all_list)\n",
        "       display_sort(sorted_list, False)\n",
        "       menu_quit_option()\n",
        "   elif main_choice_int==2:\n",
        "       #In all_list, rating is index 3 and distance is index 7\n",
        "       sorted_list=sort_by_number(all_list,3,7)\n",
        "       #we sort rating from high to low, therefore the sorted_list should be reverse\n",
        "       sorted_list.reverse()\n",
        "       display_sort(sorted_list, True)\n",
        "       menu_quit_option()\n",
        "   elif main_choice_int==3:\n",
        "       print (\"Please choose an option:\")\n",
        "       print (\"1. Only 10 Closest Stalls\")\n",
        "       print (\"2. Display all\")\n",
        "       print ()\n",
        "       respond=input(\"Answer :\")\n",
        "       #In all_list, distance is index 7\n",
        "       sorted_list=sort_by_number(all_list,7,7)\n",
        "       while True :\n",
        "           if respond==\"1\" :\n",
        "               #if second parameter of display_sort is True, it will only show the top 10\n",
        "               display_sort(sorted_list, True)\n",
        "               menu_quit_option()\n",
        "               break\n",
        "           elif respond==\"2\" :\n",
        "               #if second parameter of display_sort is False, it will show all\n",
        "               display_sort(sorted_list, False)\n",
        "               menu_quit_option()\n",
        "               break\n",
        "           else :\n",
        "               respond=input(\"Please type a number from the options:\")\n",
        "   elif main_choice_int==4:\n",
        "       search_function()\n",
        "   elif main_choice_int==5:\n",
        "       #get the location x,y again\n",
        "       get_location()\n",
        "       get_distance(all_list,x,y)\n",
        "       main_menu()\n",
        "   elif main_choice_int==6:\n",
        "       #must enter password to gain access\n",
        "       access()\n",
        "       add()\n",
        "       menu_quit_option()\n",
        "   elif main_choice_int==7:\n",
        "       #must enter password to gain access\n",
        "       access()\n",
        "       search_remove(all_list)\n",
        "       menu_quit_option()\n",
        "   elif main_choice_int==0:\n",
        "       writedatabase()\n",
        "       print(\"THANK YOU FOR USING THIS PROGRAM ! :)\")\n",
        "       exit"
      ]
    },
    {
      "cell_type": "markdown",
      "metadata": {},
      "source": [
        "To show the user the menu/quit options."
      ]
    },
    {
      "cell_type": "code",
      "execution_count": null,
      "metadata": {},
      "outputs": [],
      "source": [
        "def menu_quit_option():\n",
        "   while True:\n",
        "       print()\n",
        "       print(\"Would you like to go back to main menu?\")\n",
        "       print(\"Please choose your preferred option:\")\n",
        "       print(\"1. Back to Main Menu\")\n",
        "       print(\"2. Re-enter Current Location\")\n",
        "       print(\"0. Quit\")\n",
        "       ...\n",
        "       menu_quit_choice=input(\"User input (in digit):\")\n",
        "       #check if the menu_quit_choice is a valid input\n",
        "       if (menu_quit_choice.isdigit() and 0<=int(menu_quit_choice)<=2):\n",
        "           break\n",
        "   menu_quit_choice_int=int(menu_quit_choice)\n",
        "   if menu_quit_choice_int==1:\n",
        "       main_menu()\n",
        "   elif menu_quit_choice_int==2:\n",
        "       get_location()\n",
        "       get_distance(all_list, x, y)\n",
        "       main_menu()\n",
        "   elif menu_quit_choice_int==0:\n",
        "       writedatabase()\n",
        "       print(\"THANK YOU FOR USING THIS PROGRAM ! :)\")\n",
        "       exit"
      ]
    },
    {
      "cell_type": "markdown",
      "metadata": {},
      "source": [
        "Sort list base on first sorting category and second sorting category      \n",
        "#Input: category list,first sorting category index, second sorting category index       \n",
        "#Output: sorted list from low to high       \n",
        "#Note: this function uses merge sort as merge sort is more efficient than bubble sort       "
      ]
    },
    {
      "cell_type": "code",
      "execution_count": null,
      "metadata": {},
      "outputs": [],
      "source": [
        "def sort_by_number(category_list,first_category_index,second_category_index):\n",
        "   category_list_len=len(category_list)\n",
        "  \n",
        "   if category_list_len<2:\n",
        "       return category_list\n",
        "   left_list=category_list[:category_list_len//2]\n",
        "   right_list=category_list[category_list_len//2:]\n",
        "  \n",
        "   left_list=sort_by_number(left_list,first_category_index,second_category_index)\n",
        "   right_list=sort_by_number(right_list,first_category_index,second_category_index)\n",
        "   return merge(left_list, right_list,first_category_index,second_category_index)\n",
        "\n",
        "def merge(left_list, right_list,first_category_index,second_category_index):\n",
        "   result_list=[]\n",
        "   reverse_case=3 #Index of rating is 3\n",
        "  \n",
        "   while left_list and right_list:\n",
        "       #Compare the first element from the first list in left list and right list\n",
        "       if left_list[0][first_category_index] < right_list[0][first_category_index]:\n",
        "           result_list.append(left_list[0])\n",
        "           left_list.pop(0)\n",
        "       elif left_list[0][first_category_index] > right_list[0][first_category_index]:\n",
        "           result_list.append(right_list[0])\n",
        "           right_list.pop(0)\n",
        "       #if by comparing the first category, the result is the same we compare second category\n",
        "       #however for some cases, such as rating, we need to sort from higher rating to low rating, but from shorter distance to longer distance\n",
        "       #therefore we need to put the variable reverse_case for an exception, such as rating\n",
        "       #the variable reverse case is the index of rating in all_list\n",
        "       #If the first index is reverse_case then the second_category will be sorted reversely\n",
        "       elif first_category_index != reverse_case and left_list[0][second_category_index] < right_list[0][second_category_index]:\n",
        "           result_list.append(left_list[0])\n",
        "           left_list.pop(0)\n",
        "       elif first_category_index != reverse_case and left_list[0][second_category_index] > right_list[0][second_category_index]:\n",
        "           result_list.append(right_list[0])\n",
        "           right_list.pop(0)\n",
        "       elif left_list[0][second_category_index] < right_list[0][second_category_index]:\n",
        "           result_list.append(right_list[0])\n",
        "           right_list.pop(0)\n",
        "       else:\n",
        "           result_list.append(left_list[0])\n",
        "           left_list.pop(0)\n",
        "  \n",
        "   if left_list:\n",
        "       result_list.extend(left_list)\n",
        "   else:\n",
        "       result_list.extend(right_list)\n",
        "   return result_list"
      ]
    },
    {
      "cell_type": "markdown",
      "metadata": {},
      "source": [
        "Display the sorted list     \n",
        "#Input: sorted list     \n",
        "#Output: Information detail from each canteen     "
      ]
    },
    {
      "cell_type": "code",
      "execution_count": null,
      "metadata": {},
      "outputs": [],
      "source": [
        "def display_sort(sorted_list, number_count):\n",
        "   number_list=0\n",
        "   for Stall_info in sorted_list:\n",
        "       number_list+=1\n",
        "       print(number_list,end='')\n",
        "       print(\".\",Stall_info[0])\n",
        "\n",
        "       ...\n",
        "\n",
        "       print()\n",
        "       # if number_count is True, it will only show 10 items\n",
        "       if number_list==10 and number_count:\n",
        "           break"
      ]
    },
    {
      "cell_type": "markdown",
      "metadata": {},
      "source": [
        "Remove a certain Stall from all_list        \n",
        "#Input:all_list     \n",
        "#Output: remove a certain stall info from all_List      "
      ]
    },
    {
      "cell_type": "code",
      "execution_count": null,
      "metadata": {},
      "outputs": [],
      "source": [
        "def search_remove(all_list):\n",
        "   index_list=[]\n",
        "   while len(index_list)==0:\n",
        "       searched_item=input(\"Search the canteen list needed to be removed: \")\n",
        "       for Stall_info in all_list:\n",
        "           #searched and display the searched item with index code\n",
        "           if ...:\n",
        "               ...\n",
        "       if len(index_list)==0:\n",
        "           print(\"No matched result\")\n",
        "       else:\n",
        "           break\n",
        "   while True:\n",
        "       print(\"Enter the index code to remove the stall\")\n",
        "       print(\"Enter N to cancel and go back to main menu\")\n",
        "       remove_choice=input(\"User input(in digit or letter 'N'):\")\n",
        "       #check if the remove_choice is a valid input\n",
        "       if (remove_choice.isdigit() and (int(remove_choice)-1) in index_list) or remove_choice.upper()=='N':\n",
        "           break\n",
        "   if remove_choice.upper()=='N':\n",
        "       main_menu()\n",
        "   else:\n",
        "       all_list.pop(int(remove_choice)-1)\n",
        "       ...\n",
        "       print()"
      ]
    },
    {
      "cell_type": "markdown",
      "metadata": {},
      "source": [
        "Ask the user whether to continue searching or go back to main menu."
      ]
    },
    {
      "cell_type": "code",
      "execution_count": null,
      "metadata": {},
      "outputs": [],
      "source": [
        "def continue_searching():\n",
        "   while True:\n",
        "       continue_choice=input(\"Do you wish to continue searching (Y/N)?\")\n",
        "       if continue_choice.upper()=='Y' or continue_choice.upper()=='N':\n",
        "           break\n",
        "   if continue_choice.upper() == \"Y\":\n",
        "           search_function()\n",
        "   else:\n",
        "           main_menu()     "
      ]
    },
    {
      "cell_type": "markdown",
      "metadata": {},
      "source": [
        "Let user to choose the they want, and display them     \n",
        "#the parameter 'inside' is a parameter previously asked     "
      ]
    },
    {
      "cell_type": "code",
      "execution_count": null,
      "metadata": {},
      "outputs": [],
      "source": [
        " def display_product(inside) :\n",
        "    #Number is a variable assigned to show how many items match the search\n",
        "    number =0\n",
        "    for item in all_list :\n",
        "      #iterates all of the elements in item\n",
        "      #item is each of the elements in all_list\n",
        "      if (inside.upper()[0] in item[4][0].upper()) :\n",
        "        number +=1\n",
        "        #displays all items that matches what the user wants to search\n",
        "        print (number,\".\", item[0])\n",
        "        ...\n",
        "\n",
        "      elif inside[0]=='1' :\n",
        "        ...\n",
        "\n",
        "      elif inside[0]==\"2\" :\n",
        "        ...\n",
        "\n",
        "      elif inside[0]==\"3\" :\n",
        "        ...\n",
        "\n",
        "      elif inside[0]==\"4\" :\n",
        "        ...\n",
        "\n",
        "      elif inside[0]==\"5\" :\n",
        "        ...\n",
        "      \n",
        "    if number==0 :\n",
        "      print (\"Sorry, nothing matches your search\")"
      ]
    },
    {
      "cell_type": "markdown",
      "metadata": {},
      "source": [
        "Let the user to search canteen names, stall names, and even food types."
      ]
    },
    {
      "cell_type": "code",
      "execution_count": null,
      "metadata": {},
      "outputs": [],
      "source": [
        "def search_function():\n",
        "   while True :\n",
        "    print ()\n",
        "    print (\"Please choose which one to search\")\n",
        "    print ()\n",
        "    ...\n",
        "\n",
        "    choose=input(\"Choose the number or type 'quit' to go back to main menu:\")\n",
        "    if choose.upper()==\"QUIT\" :\n",
        "      main_menu()\n",
        "      break\n",
        "    print ()\n",
        "    #if the input does not match any of the option, the user will be asked to re-input\n",
        "    while (choose !=\"1\" and choose !=\"2\") and choose !=\"3\" :\n",
        "      ...\n",
        "      \n",
        "      break"
      ]
    },
    {
      "cell_type": "markdown",
      "metadata": {},
      "source": [
        "Asks for a password, and only authorised people who know the password can make changes in the data."
      ]
    },
    {
      "cell_type": "code",
      "execution_count": null,
      "metadata": {},
      "outputs": [],
      "source": [
        "def access() :\n",
        "    password=\"permission2access\"\n",
        "    user_password=input(\"Input password here :\")\n",
        "    print ()\n",
        "    #if the input does not match the password, access is denied\n",
        "    while user_password != password :\n",
        "      print ()\n",
        "      print (\"ACCESS DENIED ! ONLY AUTHORISED PERSONELS ARE ALLOWED TO MAKE ANY CHANGE !\")\n",
        "      print ()\n",
        "      print (\"Do you wish to re-enter password :\")\n",
        "      print (\"Enter 'yes' to continue\")\n",
        "      print (\"Enter any to go back to main menu\")\n",
        "      opinion=input(\"Answer :\")\n",
        "      if opinion=='yes' :\n",
        "        user_password=input(\"Re-enter password here :\")\n",
        "      else :\n",
        "        main_menu()\n"
      ]
    },
    {
      "cell_type": "markdown",
      "metadata": {},
      "source": [
        "Allows user to add a new information to the current data."
      ]
    },
    {
      "cell_type": "code",
      "execution_count": null,
      "metadata": {},
      "outputs": [],
      "source": [
        "def add() :\n",
        "   print ()\n",
        "   print (\"Access Granted !\")\n",
        "   print ()\n",
        "   #user will be asked to input related information\n",
        "   ...\n",
        "\n",
        "   print()\n",
        "   print (\"This is the information of your have entered :\")\n",
        "   print ()\n",
        "   ..."
      ]
    },
    {
      "cell_type": "markdown",
      "metadata": {},
      "source": [
        "Allow user to choose to either put a range or show all."
      ]
    },
    {
      "cell_type": "code",
      "execution_count": null,
      "metadata": {},
      "outputs": [],
      "source": [
        "def ask_range(all_list):\n",
        "   \n",
        "   print (\"Do you wish to set a range for price/ distance/ rating?\")\n",
        "   print (\"1. Yes\")\n",
        "   print (\"2. No, show all\")\n",
        "   decision=input(\"Answer :\")\n",
        "   sorted_list=sort_by_number(all_list,2,7)\n",
        "   while True :\n",
        "       ...\n",
        "       else :\n",
        "           decision=input(\"Invalid answer ! Please input a valid answer :\")\n",
        "  \n"
      ]
    },
    {
      "cell_type": "markdown",
      "metadata": {},
      "source": [
        "### User Interface Functionalities"
      ]
    },
    {
      "cell_type": "code",
      "execution_count": null,
      "metadata": {},
      "outputs": [],
      "source": [
        "pygame.init()\n",
        "display_width = 900\n",
        "display_height = 800\n",
        "\n",
        "#title displayed\n",
        "displaysurf = pygame.display.set_mode((display_width,display_height))\n",
        "pygame.display.set_caption(...)\n",
        "\n",
        "#all fonts used\n",
        "myfont = pygame.font.SysFont(...)\n",
        "\n",
        "\n",
        "#images used for interface\n",
        "screenImg_2 = pygame.image.load(...)\n",
        "\n",
        "#colours used\n",
        "white = (255, 255, 255)\n",
        "black = (0, 0, 0)\n",
        "blue = (0, 0, 255)\n",
        "red =(255, 0, 0)\n",
        "maroon =(128, 0, 0)\n",
        "green = (0, 255, 110)\n",
        "light_green = (26, 219, 58)\n",
        "light_blue = (66, 179, 244)\n",
        "yellow = (191, 255, 0)\n",
        "\n",
        "def insert_text(text, font): \n",
        "    textSurface = font.render (text,True, black)\n",
        "    return textSurface, textSurface.get_rect()\n",
        "\n",
        "def button_w_text(message,x,y,width,height,inactive_colour,active_colour,fsize,action=None): \n",
        "    mouse = pygame.mouse.get_pos()\n",
        "    click = pygame.MOUSEBUTTONDOWN\n",
        "\n",
        "    if x+width > mouse[0] > x and y+height > mouse[1] > y:\n",
        "        pygame.draw.rect(appDisplay, active_colour, (x,y,width,height))\n",
        "        for event in pygame.event.get():\n",
        "            if event.type == click and action != None:\n",
        "                action()\n",
        "    else:\n",
        "        pygame.draw.rect(appDisplay, inactive_colour, (x,y,width,height))\n",
        "\n",
        "    regtext = pygame.font.SysFont(\"berlinsansfb\",fsize)\n",
        "    textSurf, textRect = insert_text(message, regtext)\n",
        "    textRect.center = ( (x+(width/2)), (y+(height/2)) )\n",
        "    appDisplay.blit(textSurf, textRect)\n",
        "\n",
        "\n",
        "def app_intro():\n",
        "    intro = True\n",
        "    while intro:\n",
        "        for event in pygame.event.get():\n",
        "            if event.type == pygame.QUIT:\n",
        "                pygame.quit()\n",
        "                quit()\n",
        "        appDisplay.blit(menuimg,(0,0))\n",
        "        \n",
        "        maintext = pygame.font.SysFont(\"berlinsansfb\",100)\n",
        "        TextSurf, TextRect = insert_text(\"NTU Foodie\", maintext)\n",
        "        TextRect.center = (499,208)\n",
        "        appDisplay.blit(TextSurf, TextRect)\n",
        "        \n",
        "        button_w_text (\"Recommendation\",100,500,200,150,red,white,25,True)\n",
        "        button_w_text (\"Directory\", 400,500,200,150,red,white,25,True)\n",
        "        button_w_text (\"QUIT\", 700,500,200,150,red,white,25,quit())\n",
        "        \n",
        "        \n",
        "        pygame.display.update()\n",
        "\n",
        "def transparent_button(message,x,y,width,height,inactive_colour,active_colour,action=None): \n",
        "    act = 0\n",
        "    mouse = pygame.mouse.get_pos()\n",
        "    click = pygame.MOUSEBUTTONDOWN\n",
        "    if x+width > mouse[0] > x and y+height > mouse[1] > y:\n",
        "        size = pygame.Surface((width,height))\n",
        "        size.set_alpha(75)\n",
        "        size.fill(active_colour)\n",
        "        appDisplay.blit(size,(x,y))\n",
        "        for event in pygame.event.get():\n",
        "            if event.type == click:\n",
        "                act = 1\n",
        "    else:\n",
        "        size = pygame.Surface((width,height))\n",
        "        size.set_alpha(75)\n",
        "        size.fill(inactive_colour)\n",
        "        appDisplay.blit(size,(x,y))\n",
        "\n",
        "    return act     \n",
        "\n",
        "def transparent_exit(message,x,y,width,height,inactive_colour,active_colour,action=None): \n",
        "    mouse = pygame.mouse.get_pos()\n",
        "    click = pygame.MOUSEBUTTONDOWN\n",
        "    if x+width > mouse[0] > x and y+height > mouse[1] > y:\n",
        "        size = pygame.Surface((width,height))\n",
        "        size.set_alpha(75)\n",
        "        size.fill(active_colour)\n",
        "        appDisplay.blit(size,(x,y))\n",
        "        for event in pygame.event.get():\n",
        "            if event.type == click and action != None:\n",
        "                action()\n",
        "    else:\n",
        "        size = pygame.Surface((width,height))\n",
        "        size.set_alpha(75)\n",
        "        size.fill(inactive_colour)\n",
        "        appDisplay.blit(size,(x,y))\n",
        "\n",
        "def pressbutton(): \n",
        "    done = False\n",
        "    while done == False:\n",
        "        for event in pygame.event.get():\n",
        "            if event.type == pygame.QUIT:\n",
        "                done = True\n",
        "            else:\n",
        "                if event.type == pygame.MOUSEBUTTONDOWN:\n",
        "                    (x, y) = pygame.mouse.get_pos()\n",
        "                    print(x, y)\n",
        "                    done = True\n",
        "    return (x, y)\n",
        "\n",
        "def msg_displayfirstpage (text, font, color, incre):\n",
        "    TextStart, TextRect = text_objects(text, font, color)\n",
        "    TextRect.center = ((display_width/2),(display_height/2 + incre))\n",
        "    displaysurf.blit(TextStart, TextRect)\n",
        "    \n",
        "def text_objects(text, font, color):\n",
        "    textStart = font.render(text, True, color)\n",
        "    return textStart, textStart.get_rect()\n",
        "\n",
        "def start_screen() :\n",
        "    start = True\n",
        "    while start :\n",
        "        for event in pygame.event.get():\n",
        "            if event.type == pygame.QUIT:\n",
        "                pygame.quit()\n",
        "                quit()\n",
        "        displaysurf.blit(screenImg_2,(0, 0))\n",
        "        msg_displayfirstpage(...)\n",
        "        button(\" START >> \", 320, 450, 280, 80, green, red, map)\n",
        "        pygame.display.update()\n",
        "        \n",
        "app_intro()\n",
        "pygame.quit()\n",
        "quit()"
      ]
    },
    {
      "cell_type": "code",
      "execution_count": null,
      "metadata": {},
      "outputs": [],
      "source": [
        "#Call the function welcome_menu() to display Welcome Menu\n",
        "welcome_menu()"
      ]
    }
  ],
  "metadata": {
    "colab": {
      "provenance": []
    },
    "kernelspec": {
      "display_name": "Python 3 (ipykernel)",
      "language": "python",
      "name": "python3"
    },
    "language_info": {
      "codemirror_mode": {
        "name": "ipython",
        "version": 3
      },
      "file_extension": ".py",
      "mimetype": "text/x-python",
      "name": "python",
      "nbconvert_exporter": "python",
      "pygments_lexer": "ipython3",
      "version": "3.9.17"
    },
    "toc": {
      "colors": {
        "hover_highlight": "#DAA520",
        "navigate_num": "#000000",
        "navigate_text": "#333333",
        "running_highlight": "#FF0000",
        "selected_highlight": "#FFD700",
        "sidebar_border": "#EEEEEE",
        "wrapper_background": "#FFFFFF"
      },
      "moveMenuLeft": true,
      "nav_menu": {
        "height": "264px",
        "width": "252px"
      },
      "navigate_menu": true,
      "number_sections": true,
      "sideBar": true,
      "threshold": 4,
      "toc_cell": false,
      "toc_section_display": "block",
      "toc_window_display": false,
      "widenNotebook": false
    }
  },
  "nbformat": 4,
  "nbformat_minor": 0
}
